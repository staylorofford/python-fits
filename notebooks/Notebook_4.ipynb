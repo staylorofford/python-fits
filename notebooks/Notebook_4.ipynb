{
 "cells": [
  {
   "cell_type": "markdown",
   "metadata": {},
   "source": [
    "**Station location plotting using FITS (FIeld Time Series) database**\n",
    "\n",
    "In this notebook we will look at discovering the location of sites in the FITS (FIeld Time Series) database. However, as the Python packages we have used previously are not capable of handling SVG files (the format FITS uses for its maps), we will need a few extra packages to handle SVG images pulled from the web: [cairosvg](http://cairosvg.org/), io, and [PIL](https://pillow.readthedocs.io/en/latest/).\n",
    "\n",
    "Before downloading any packages or running any code, take a look at the map at the bottom of this notebook. Through some clever Python scripting you too could plot this figure, but it may prove easier to just build the URL and save the figure from the FITS web service!\n",
    "\n",
    "If you do want to run the code, first import the packages we need:"
   ]
  },
  {
   "cell_type": "code",
   "execution_count": 1,
   "metadata": {},
   "outputs": [],
   "source": [
    "# Import packages\n",
    "\n",
    "import cairosvg\n",
    "import io\n",
    "from PIL import Image\n",
    "import matplotlib.pyplot as plt"
   ]
  },
  {
   "cell_type": "markdown",
   "metadata": {},
   "source": [
    "We will now plot the locations of a list of sites. The FITS API for maps takes a comma separated list of sites, so we will need to shape this list before we insert it into the query. The map query takes this site list and one other argument: the plotting region. The plotting region sets the map extent, and while it is optional the alternative is to allow the automatic system to take over (which doesn't always work as expected). The regions available are:\n",
    "- ChathamIsland\n",
    "- LakeTaupo\n",
    "- NewZealand\n",
    "- NewZealandRegion\n",
    "- RaoulIsland\n",
    "- WhiteIsland\n",
    "- latmin, longmin, latmax, longmax (i.e. a user-defined extent)\n",
    "\n",
    "The default region is NewZealand.\n",
    "\n",
    "Let's set our sites and region:"
   ]
  },
  {
   "cell_type": "code",
   "execution_count": 2,
   "metadata": {},
   "outputs": [],
   "source": [
    "sites = ['AUCK', 'WGTN', 'MQZG', 'DUND']\n",
    "region = 'NewZealand'\n",
    "#region = '165,-48,-175,-34' # uncomment and change this if a user-defined extent is desired"
   ]
  },
  {
   "cell_type": "markdown",
   "metadata": {},
   "source": [
    "Now we will build the query and plot the result. As python's SVG plotting ability is limited (even with matplotlib), we will use the combination of cairosvg - which will convert our query result into a PNG image - io - which will store the PNG in the system's memory - and PIL - which will allow us to convert the PNG in system memory into a plottable object in matplotlib."
   ]
  },
  {
   "cell_type": "code",
   "execution_count": 3,
   "metadata": {},
   "outputs": [
    {
     "data": {
      "image/png": "[encoded data removed]",
      "text/plain": [
       "<Figure size 432x288 with 1 Axes>"
      ]
     },
     "metadata": {},
     "output_type": "display_data"
    }
   ],
   "source": [
    "# Build query\n",
    "\n",
    "query_suffix = ''\n",
    "\n",
    "for site in sites:\n",
    "    \n",
    "    query_suffix += site + ','\n",
    "    \n",
    "query_suffix = query_suffix[:-1]\n",
    "    \n",
    "URL = 'http://fits.geonet.org.nz/map/site?sites=' + query_suffix + '&bbox=' + region + '&width=300'\n",
    "\n",
    "# Open image from query result\n",
    "\n",
    "# Create a file-object in the system memory\n",
    "\n",
    "memory_stream = io.BytesIO()\n",
    "\n",
    "# Convert the SVG returned by our query into a PNG stored in the file-object\n",
    "\n",
    "cairosvg.svg2png(url = URL, write_to = memory_stream)\n",
    "\n",
    "# Return the memory buffer to the start of the file object\n",
    "\n",
    "memory_stream.seek(0)\n",
    "\n",
    "# Use PIL to open the PNG in an easy to use format\n",
    "\n",
    "im = Image.open(memory_stream)\n",
    "\n",
    "# Plot the PNG using matplotlib\n",
    "\n",
    "plt.imshow(im)\n",
    "plt.show()"
   ]
  },
  {
   "cell_type": "markdown",
   "metadata": {},
   "source": [
    "In this map all water-land borders are drawn and each station's location is overlain as a red triangle. Station labels cannot be added due to the loss of information in the SVG -> PNG translation, so while this map shows where the stations are located, we cannot distinguish which station is which! For this we'll need a much more sophisticated plotting system. The best alternative is to run the cell below and to click on the URL output - this gives the map above, but in the web browser hovering your mouse over a station will show its name.\n",
    "\n",
    "If you want to see a higher resolution map, change the width specified in the query to something >300. This width is the number of pixels wide the PNG image will be, so it can be increased - but be warned: too many pixels will make the station locations very small!"
   ]
  },
  {
   "cell_type": "code",
   "execution_count": 4,
   "metadata": {},
   "outputs": [
    {
     "name": "stdout",
     "output_type": "stream",
     "text": [
      "http://fits.geonet.org.nz/map/site?sites=AUCK,WGTN,MQZG,DUND&bbox=NewZealand&width=300\n"
     ]
    }
   ],
   "source": [
    "print(URL)"
   ]
  }
 ],
 "metadata": {
  "kernelspec": {
   "display_name": "Python 3",
   "language": "python",
   "name": "python3"
  },
  "language_info": {
   "codemirror_mode": {
    "name": "ipython",
    "version": 3
   },
   "file_extension": ".py",
   "mimetype": "text/x-python",
   "name": "python",
   "nbconvert_exporter": "python",
   "pygments_lexer": "ipython3",
   "version": "3.6.5"
  }
 },
 "nbformat": 4,
 "nbformat_minor": 2
}
